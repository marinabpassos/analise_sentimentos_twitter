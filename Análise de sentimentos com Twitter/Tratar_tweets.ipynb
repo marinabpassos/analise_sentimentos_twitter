{
  "cells": [
    {
      "cell_type": "markdown",
      "metadata": {},
      "source": [
        "# Análise de Sentimentos com Twitter - Tratamento de dados e score de sentimentos"
      ]
    },
    {
      "cell_type": "markdown",
      "metadata": {},
      "source": [
        "Nesse notebook, iremos tratar os datasets extraídos no passo anterior e acrescentar um score de sentimento"
      ]
    },
    {
      "cell_type": "markdown",
      "metadata": {
        "id": "JE-cEdBUM6d-"
      },
      "source": [
        "# Importação de libs"
      ]
    },
    {
      "cell_type": "code",
      "execution_count": 1,
      "metadata": {
        "colab": {
          "base_uri": "https://localhost:8080/"
        },
        "id": "zjIl43CCOyMp",
        "outputId": "2c76c194-f1f5-4814-e055-c78e2e0a5333"
      },
      "outputs": [
        {
          "name": "stdout",
          "output_type": "stream",
          "text": [
            "Requirement already satisfied: deep_translator in c:\\users\\marin\\anaconda3\\lib\\site-packages (1.8.3)\n",
            "Requirement already satisfied: beautifulsoup4<5.0.0,>=4.9.1 in c:\\users\\marin\\anaconda3\\lib\\site-packages (from deep_translator) (4.9.3)\n",
            "Requirement already satisfied: requests<3.0.0,>=2.23.0 in c:\\users\\marin\\anaconda3\\lib\\site-packages (from deep_translator) (2.25.1)Note: you may need to restart the kernel to use updated packages.\n",
            "Requirement already satisfied: soupsieve>1.2 in c:\\users\\marin\\anaconda3\\lib\\site-packages (from beautifulsoup4<5.0.0,>=4.9.1->deep_translator) (2.2.1)\n",
            "Requirement already satisfied: certifi>=2017.4.17 in c:\\users\\marin\\anaconda3\\lib\\site-packages (from requests<3.0.0,>=2.23.0->deep_translator) (2020.12.5)\n",
            "Requirement already satisfied: urllib3<1.27,>=1.21.1 in c:\\users\\marin\\anaconda3\\lib\\site-packages (from requests<3.0.0,>=2.23.0->deep_translator) (1.26.4)\n",
            "Requirement already satisfied: idna<3,>=2.5 in c:\\users\\marin\\anaconda3\\lib\\site-packages (from requests<3.0.0,>=2.23.0->deep_translator) (2.10)\n",
            "Requirement already satisfied: chardet<5,>=3.0.2 in c:\\users\\marin\\anaconda3\\lib\\site-packages (from requests<3.0.0,>=2.23.0->deep_translator) (4.0.0)\n",
            "\n"
          ]
        }
      ],
      "source": [
        "%pip install deep_translator"
      ]
    },
    {
      "cell_type": "code",
      "execution_count": 2,
      "metadata": {},
      "outputs": [
        {
          "name": "stdout",
          "output_type": "stream",
          "text": [
            "Requirement already satisfied: textblob in c:\\users\\marin\\anaconda3\\lib\\site-packages (0.17.1)\n",
            "Requirement already satisfied: nltk>=3.1 in c:\\users\\marin\\anaconda3\\lib\\site-packages (from textblob) (3.6.1)\n",
            "Requirement already satisfied: joblib in c:\\users\\marin\\anaconda3\\lib\\site-packages (from nltk>=3.1->textblob) (1.0.1)\n",
            "Requirement already satisfied: regex in c:\\users\\marin\\anaconda3\\lib\\site-packages (from nltk>=3.1->textblob) (2021.4.4)\n",
            "Requirement already satisfied: click in c:\\users\\marin\\anaconda3\\lib\\site-packages (from nltk>=3.1->textblob) (7.1.2)\n",
            "Requirement already satisfied: tqdm in c:\\users\\marin\\anaconda3\\lib\\site-packages (from nltk>=3.1->textblob) (4.59.0)\n",
            "Note: you may need to restart the kernel to use updated packages.\n"
          ]
        }
      ],
      "source": [
        "%pip install textblob"
      ]
    },
    {
      "cell_type": "code",
      "execution_count": 3,
      "metadata": {
        "id": "vIS-ce7f2CTb"
      },
      "outputs": [],
      "source": [
        "import pandas as pd\n",
        "import re\n",
        "from textblob import TextBlob as tb\n",
        "import numpy as np\n",
        "from deep_translator import GoogleTranslator\n",
        "import seaborn as sns"
      ]
    },
    {
      "cell_type": "markdown",
      "metadata": {
        "id": "XpuevhsYM_fv"
      },
      "source": [
        "## Leitura de dataframe e unificação em único"
      ]
    },
    {
      "cell_type": "code",
      "execution_count": 4,
      "metadata": {
        "id": "lf7CNzIZNMlj"
      },
      "outputs": [],
      "source": [
        "df_clear = pd.read_excel(\"../arquivos/tweet_dataset_clear.xlsx\")\n",
        "df_rico = pd.read_excel('../arquivos/tweet_dataset_rico.xlsx')\n",
        "df_xp = pd.read_excel('../arquivos/tweet_dataset_xpi.xlsx')\n",
        "df_nubank = pd.read_csv('../arquivos/tweet_dataset_nubank.csv',encoding = 'utf-8')\n",
        "df_itau = pd.read_csv('../arquivos/tweet_dataset_itau.csv',encoding = 'utf-8')\n",
        "df_btg = pd.read_csv('../arquivos/tweet_dataset_btg.csv',encoding = 'utf-8')\n"
      ]
    },
    {
      "cell_type": "code",
      "execution_count": 5,
      "metadata": {
        "id": "lWftCMUmNSrx"
      },
      "outputs": [],
      "source": [
        "df_clear['Marca'] = 'Clear'\n",
        "df_xp['Marca'] = 'Xp'\n",
        "df_rico['Marca'] = 'Rico'\n",
        "df_nubank['Marca'] = 'Nubank'\n",
        "df_itau['Marca'] = 'Itau'\n",
        "df_btg['Marca'] = 'BTG'"
      ]
    },
    {
      "cell_type": "code",
      "execution_count": 6,
      "metadata": {
        "colab": {
          "base_uri": "https://localhost:8080/",
          "height": 206
        },
        "id": "oJGuWuRhNWCU",
        "outputId": "62b757fc-edcb-4001-e4d3-cd71877f5132"
      },
      "outputs": [
        {
          "data": {
            "text/html": [
              "<div>\n",
              "<style scoped>\n",
              "    .dataframe tbody tr th:only-of-type {\n",
              "        vertical-align: middle;\n",
              "    }\n",
              "\n",
              "    .dataframe tbody tr th {\n",
              "        vertical-align: top;\n",
              "    }\n",
              "\n",
              "    .dataframe thead th {\n",
              "        text-align: right;\n",
              "    }\n",
              "</style>\n",
              "<table border=\"1\" class=\"dataframe\">\n",
              "  <thead>\n",
              "    <tr style=\"text-align: right;\">\n",
              "      <th></th>\n",
              "      <th>Tweet Id</th>\n",
              "      <th>Tweet Date</th>\n",
              "      <th>Follower Count</th>\n",
              "      <th>Account Verified</th>\n",
              "      <th>Favorite Count</th>\n",
              "      <th>Retweets</th>\n",
              "      <th>Tweet Text</th>\n",
              "      <th>Marca</th>\n",
              "    </tr>\n",
              "  </thead>\n",
              "  <tbody>\n",
              "    <tr>\n",
              "      <th>0</th>\n",
              "      <td>1521495234743516928</td>\n",
              "      <td>2022-05-03 14:21:46</td>\n",
              "      <td>3</td>\n",
              "      <td>False</td>\n",
              "      <td>0</td>\n",
              "      <td>0</td>\n",
              "      <td>b'@kimpaim Cancelando minha conta da @clear_co...</td>\n",
              "      <td>Clear</td>\n",
              "    </tr>\n",
              "    <tr>\n",
              "      <th>1</th>\n",
              "      <td>1521491055681617920</td>\n",
              "      <td>2022-05-03 14:05:10</td>\n",
              "      <td>377</td>\n",
              "      <td>False</td>\n",
              "      <td>1</td>\n",
              "      <td>0</td>\n",
              "      <td>b'@marvinoliveiras @EliVieiraJr @Bancointer @c...</td>\n",
              "      <td>Clear</td>\n",
              "    </tr>\n",
              "    <tr>\n",
              "      <th>2</th>\n",
              "      <td>1521479145859002112</td>\n",
              "      <td>2022-05-03 13:17:50</td>\n",
              "      <td>214</td>\n",
              "      <td>False</td>\n",
              "      <td>0</td>\n",
              "      <td>0</td>\n",
              "      <td>b'@EliVieiraJr @Bancointer agradec a Deus q s\\...</td>\n",
              "      <td>Clear</td>\n",
              "    </tr>\n",
              "    <tr>\n",
              "      <th>3</th>\n",
              "      <td>1521467095443202048</td>\n",
              "      <td>2022-05-03 12:29:57</td>\n",
              "      <td>722</td>\n",
              "      <td>False</td>\n",
              "      <td>0</td>\n",
              "      <td>0</td>\n",
              "      <td>b'@PrivacyMistress @Bancointer @clear_corretor...</td>\n",
              "      <td>Clear</td>\n",
              "    </tr>\n",
              "    <tr>\n",
              "      <th>4</th>\n",
              "      <td>1521436858152062976</td>\n",
              "      <td>2022-05-03 10:29:48</td>\n",
              "      <td>96</td>\n",
              "      <td>False</td>\n",
              "      <td>1</td>\n",
              "      <td>0</td>\n",
              "      <td>b'@profBrivaldoJr @MetodoMoreira @hugomineirim...</td>\n",
              "      <td>Clear</td>\n",
              "    </tr>\n",
              "  </tbody>\n",
              "</table>\n",
              "</div>"
            ],
            "text/plain": [
              "              Tweet Id           Tweet Date  Follower Count  Account Verified  \\\n",
              "0  1521495234743516928  2022-05-03 14:21:46               3             False   \n",
              "1  1521491055681617920  2022-05-03 14:05:10             377             False   \n",
              "2  1521479145859002112  2022-05-03 13:17:50             214             False   \n",
              "3  1521467095443202048  2022-05-03 12:29:57             722             False   \n",
              "4  1521436858152062976  2022-05-03 10:29:48              96             False   \n",
              "\n",
              "   Favorite Count  Retweets  \\\n",
              "0               0         0   \n",
              "1               1         0   \n",
              "2               0         0   \n",
              "3               0         0   \n",
              "4               1         0   \n",
              "\n",
              "                                          Tweet Text  Marca  \n",
              "0  b'@kimpaim Cancelando minha conta da @clear_co...  Clear  \n",
              "1  b'@marvinoliveiras @EliVieiraJr @Bancointer @c...  Clear  \n",
              "2  b'@EliVieiraJr @Bancointer agradec a Deus q s\\...  Clear  \n",
              "3  b'@PrivacyMistress @Bancointer @clear_corretor...  Clear  \n",
              "4  b'@profBrivaldoJr @MetodoMoreira @hugomineirim...  Clear  "
            ]
          },
          "execution_count": 6,
          "metadata": {},
          "output_type": "execute_result"
        }
      ],
      "source": [
        "# Unindo os Datasets\n",
        "df_final = pd.concat([df_clear, df_xp, df_rico, df_nubank, df_itau, df_btg], axis =0, ignore_index = True)\n",
        "df_final.head()"
      ]
    },
    {
      "cell_type": "markdown",
      "metadata": {
        "id": "EaHS4n2lNmyI"
      },
      "source": [
        "# Tratamento de dataframe"
      ]
    },
    {
      "cell_type": "markdown",
      "metadata": {
        "id": "-H0-YVUUNriO"
      },
      "source": [
        "Resolver problemas de encoding"
      ]
    },
    {
      "cell_type": "code",
      "execution_count": 7,
      "metadata": {
        "id": "x6cWQNwoJc2n"
      },
      "outputs": [],
      "source": [
        "fix_encoding = (\n",
        "    lambda string: bytes(string.strip(), encoding='raw_unicode_escape')\n",
        "    .decode('unicode_escape')\n",
        "    .encode('latin1')\n",
        "    .decode('utf-8') \n",
        "    )"
      ]
    },
    {
      "cell_type": "markdown",
      "metadata": {
        "id": "lMfggbhtN9vW"
      },
      "source": [
        "Remover mentions e outros caracteres sem polaridade"
      ]
    },
    {
      "cell_type": "code",
      "execution_count": 8,
      "metadata": {
        "id": "82S9WOKHJYME"
      },
      "outputs": [],
      "source": [
        "remove_mentions = lambda string: re.sub(\"@\\w+\", \" \", string)\n",
        "remove_trailing_b = lambda string: re.sub(\"^b\", \" \", string)\n",
        "remove_quotes = lambda string: re.sub(\"['|\\\"]\", \" \", string)\n",
        "remove_initial_spaces = lambda string: re.sub(\"^\\s+\", \" \", string)\n",
        "#remove_links = lambda string: re.sub(r'^https?:\\/\\/.*[\\r\\n]*', '', string)\n",
        "#remove_links= lambda string: re.sub('http[s]?://(?:[a-zA-Z]|[0-9]|[$-_@.&+]|[!*\\(\\),]|(?:%[0-9a-fA-F][0-9a-fA-F]))'+, '', string, flags=re.MULTILINE)"
      ]
    },
    {
      "cell_type": "code",
      "execution_count": 9,
      "metadata": {
        "id": "a9BsOcdvJ8xJ"
      },
      "outputs": [],
      "source": [
        "df_final['Cleaned Tweets'] = (\n",
        "    df_final['Tweet Text']\n",
        "    .apply(fix_encoding)\n",
        "    .apply(remove_mentions)\n",
        "    .apply(remove_trailing_b)\n",
        "    .apply(remove_quotes)\n",
        "    .apply(remove_initial_spaces)\n",
        "    #.apply(remove_links)\n",
        ")"
      ]
    },
    {
      "cell_type": "code",
      "execution_count": 10,
      "metadata": {
        "colab": {
          "base_uri": "https://localhost:8080/",
          "height": 354
        },
        "id": "hE4QMLkbL41d",
        "outputId": "4af4f5f0-4023-4ab8-a351-6e9bba0878c8"
      },
      "outputs": [
        {
          "data": {
            "text/html": [
              "<div>\n",
              "<style scoped>\n",
              "    .dataframe tbody tr th:only-of-type {\n",
              "        vertical-align: middle;\n",
              "    }\n",
              "\n",
              "    .dataframe tbody tr th {\n",
              "        vertical-align: top;\n",
              "    }\n",
              "\n",
              "    .dataframe thead th {\n",
              "        text-align: right;\n",
              "    }\n",
              "</style>\n",
              "<table border=\"1\" class=\"dataframe\">\n",
              "  <thead>\n",
              "    <tr style=\"text-align: right;\">\n",
              "      <th></th>\n",
              "      <th>Tweet Id</th>\n",
              "      <th>Tweet Date</th>\n",
              "      <th>Follower Count</th>\n",
              "      <th>Account Verified</th>\n",
              "      <th>Favorite Count</th>\n",
              "      <th>Retweets</th>\n",
              "      <th>Tweet Text</th>\n",
              "      <th>Marca</th>\n",
              "      <th>Cleaned Tweets</th>\n",
              "    </tr>\n",
              "  </thead>\n",
              "  <tbody>\n",
              "    <tr>\n",
              "      <th>0</th>\n",
              "      <td>1521495234743516928</td>\n",
              "      <td>2022-05-03 14:21:46</td>\n",
              "      <td>3</td>\n",
              "      <td>False</td>\n",
              "      <td>0</td>\n",
              "      <td>0</td>\n",
              "      <td>b'@kimpaim Cancelando minha conta da @clear_co...</td>\n",
              "      <td>Clear</td>\n",
              "      <td>Cancelando minha conta da</td>\n",
              "    </tr>\n",
              "    <tr>\n",
              "      <th>1</th>\n",
              "      <td>1521491055681617920</td>\n",
              "      <td>2022-05-03 14:05:10</td>\n",
              "      <td>377</td>\n",
              "      <td>False</td>\n",
              "      <td>1</td>\n",
              "      <td>0</td>\n",
              "      <td>b'@marvinoliveiras @EliVieiraJr @Bancointer @c...</td>\n",
              "      <td>Clear</td>\n",
              "      <td>Cara, sai fora essas empresas. São boas nas m...</td>\n",
              "    </tr>\n",
              "    <tr>\n",
              "      <th>2</th>\n",
              "      <td>1521479145859002112</td>\n",
              "      <td>2022-05-03 13:17:50</td>\n",
              "      <td>214</td>\n",
              "      <td>False</td>\n",
              "      <td>0</td>\n",
              "      <td>0</td>\n",
              "      <td>b'@EliVieiraJr @Bancointer agradec a Deus q s\\...</td>\n",
              "      <td>Clear</td>\n",
              "      <td>agradec a Deus q são só 3 dias, estou a quase...</td>\n",
              "    </tr>\n",
              "    <tr>\n",
              "      <th>3</th>\n",
              "      <td>1521467095443202048</td>\n",
              "      <td>2022-05-03 12:29:57</td>\n",
              "      <td>722</td>\n",
              "      <td>False</td>\n",
              "      <td>0</td>\n",
              "      <td>0</td>\n",
              "      <td>b'@PrivacyMistress @Bancointer @clear_corretor...</td>\n",
              "      <td>Clear</td>\n",
              "      <td>Next tem  conta pj e conta pf também? A minha...</td>\n",
              "    </tr>\n",
              "    <tr>\n",
              "      <th>4</th>\n",
              "      <td>1521436858152062976</td>\n",
              "      <td>2022-05-03 10:29:48</td>\n",
              "      <td>96</td>\n",
              "      <td>False</td>\n",
              "      <td>1</td>\n",
              "      <td>0</td>\n",
              "      <td>b'@profBrivaldoJr @MetodoMoreira @hugomineirim...</td>\n",
              "      <td>Clear</td>\n",
              "      <td>RLP dizem que é uma ferramenta q permite vc c...</td>\n",
              "    </tr>\n",
              "  </tbody>\n",
              "</table>\n",
              "</div>"
            ],
            "text/plain": [
              "              Tweet Id           Tweet Date  Follower Count  Account Verified  \\\n",
              "0  1521495234743516928  2022-05-03 14:21:46               3             False   \n",
              "1  1521491055681617920  2022-05-03 14:05:10             377             False   \n",
              "2  1521479145859002112  2022-05-03 13:17:50             214             False   \n",
              "3  1521467095443202048  2022-05-03 12:29:57             722             False   \n",
              "4  1521436858152062976  2022-05-03 10:29:48              96             False   \n",
              "\n",
              "   Favorite Count  Retweets  \\\n",
              "0               0         0   \n",
              "1               1         0   \n",
              "2               0         0   \n",
              "3               0         0   \n",
              "4               1         0   \n",
              "\n",
              "                                          Tweet Text  Marca  \\\n",
              "0  b'@kimpaim Cancelando minha conta da @clear_co...  Clear   \n",
              "1  b'@marvinoliveiras @EliVieiraJr @Bancointer @c...  Clear   \n",
              "2  b'@EliVieiraJr @Bancointer agradec a Deus q s\\...  Clear   \n",
              "3  b'@PrivacyMistress @Bancointer @clear_corretor...  Clear   \n",
              "4  b'@profBrivaldoJr @MetodoMoreira @hugomineirim...  Clear   \n",
              "\n",
              "                                      Cleaned Tweets  \n",
              "0                       Cancelando minha conta da     \n",
              "1   Cara, sai fora essas empresas. São boas nas m...  \n",
              "2   agradec a Deus q são só 3 dias, estou a quase...  \n",
              "3   Next tem  conta pj e conta pf também? A minha...  \n",
              "4   RLP dizem que é uma ferramenta q permite vc c...  "
            ]
          },
          "execution_count": 10,
          "metadata": {},
          "output_type": "execute_result"
        }
      ],
      "source": [
        "df_final.head()"
      ]
    },
    {
      "cell_type": "code",
      "execution_count": null,
      "metadata": {
        "id": "VzgcSwaItmXi"
      },
      "outputs": [],
      "source": [
        "translate_text = lambda string: GoogleTranslator(source='portuguese', target='english').translate(string)"
      ]
    },
    {
      "cell_type": "code",
      "execution_count": null,
      "metadata": {
        "id": "aQ9eXNhft_5J"
      },
      "outputs": [],
      "source": [
        "df_final['Translated Tweets'] = df_final['Cleaned Tweets'].apply(translate_text)\n",
        "df_final.head()"
      ]
    },
    {
      "cell_type": "code",
      "execution_count": null,
      "metadata": {
        "id": "tR-9FELfvLXt"
      },
      "outputs": [],
      "source": [
        "df_final.to_csv('arquivos\\df_final_traduzido.csv', index=False)  "
      ]
    },
    {
      "cell_type": "code",
      "execution_count": 11,
      "metadata": {
        "id": "fHgdNKAP35Ny"
      },
      "outputs": [],
      "source": [
        "df_final_t = pd.read_csv('../arquivos/df_final_traduzido.csv', encoding = 'utf-8')"
      ]
    },
    {
      "cell_type": "code",
      "execution_count": 18,
      "metadata": {
        "colab": {
          "base_uri": "https://localhost:8080/",
          "height": 354
        },
        "id": "r_mlKvZr4E3X",
        "outputId": "ae2bceba-d69a-4b1c-8212-27aea04aa45a"
      },
      "outputs": [
        {
          "data": {
            "text/html": [
              "<div>\n",
              "<style scoped>\n",
              "    .dataframe tbody tr th:only-of-type {\n",
              "        vertical-align: middle;\n",
              "    }\n",
              "\n",
              "    .dataframe tbody tr th {\n",
              "        vertical-align: top;\n",
              "    }\n",
              "\n",
              "    .dataframe thead th {\n",
              "        text-align: right;\n",
              "    }\n",
              "</style>\n",
              "<table border=\"1\" class=\"dataframe\">\n",
              "  <thead>\n",
              "    <tr style=\"text-align: right;\">\n",
              "      <th></th>\n",
              "      <th>Tweet Id</th>\n",
              "      <th>Tweet Date</th>\n",
              "      <th>Follower Count</th>\n",
              "      <th>Account Verified</th>\n",
              "      <th>Favorite Count</th>\n",
              "      <th>Retweets</th>\n",
              "      <th>Tweet Text</th>\n",
              "      <th>Marca</th>\n",
              "      <th>Cleaned Tweets</th>\n",
              "      <th>Translated Tweets</th>\n",
              "      <th>Sentiment</th>\n",
              "    </tr>\n",
              "  </thead>\n",
              "  <tbody>\n",
              "    <tr>\n",
              "      <th>0</th>\n",
              "      <td>1.521495e+18</td>\n",
              "      <td>2022-05-03 14:21:46</td>\n",
              "      <td>3</td>\n",
              "      <td>False</td>\n",
              "      <td>0</td>\n",
              "      <td>0</td>\n",
              "      <td>b'@kimpaim Cancelando minha conta da @clear_co...</td>\n",
              "      <td>Clear</td>\n",
              "      <td>Cancelando minha conta da</td>\n",
              "      <td>Canceling my account from</td>\n",
              "      <td>Neutral</td>\n",
              "    </tr>\n",
              "    <tr>\n",
              "      <th>1</th>\n",
              "      <td>1.521491e+18</td>\n",
              "      <td>2022-05-03 14:05:10</td>\n",
              "      <td>377</td>\n",
              "      <td>False</td>\n",
              "      <td>1</td>\n",
              "      <td>0</td>\n",
              "      <td>b'@marvinoliveiras @EliVieiraJr @Bancointer @c...</td>\n",
              "      <td>Clear</td>\n",
              "      <td>Cara, sai fora essas empresas. São boas nas m...</td>\n",
              "      <td>Dude, get out of these companies. They're good...</td>\n",
              "      <td>Positive</td>\n",
              "    </tr>\n",
              "    <tr>\n",
              "      <th>2</th>\n",
              "      <td>1.521479e+18</td>\n",
              "      <td>2022-05-03 13:17:50</td>\n",
              "      <td>214</td>\n",
              "      <td>False</td>\n",
              "      <td>0</td>\n",
              "      <td>0</td>\n",
              "      <td>b'@EliVieiraJr @Bancointer agradec a Deus q s\\...</td>\n",
              "      <td>Clear</td>\n",
              "      <td>agradec a Deus q são só 3 dias, estou a quase...</td>\n",
              "      <td>I thank God that it's only 3 days, I'm almost ...</td>\n",
              "      <td>Negative</td>\n",
              "    </tr>\n",
              "    <tr>\n",
              "      <th>3</th>\n",
              "      <td>1.521467e+18</td>\n",
              "      <td>2022-05-03 12:29:57</td>\n",
              "      <td>722</td>\n",
              "      <td>False</td>\n",
              "      <td>0</td>\n",
              "      <td>0</td>\n",
              "      <td>b'@PrivacyMistress @Bancointer @clear_corretor...</td>\n",
              "      <td>Clear</td>\n",
              "      <td>Next tem  conta pj e conta pf também? A minha...</td>\n",
              "      <td>Next do you have a pj account and a pf account...</td>\n",
              "      <td>Positive</td>\n",
              "    </tr>\n",
              "    <tr>\n",
              "      <th>4</th>\n",
              "      <td>1.521437e+18</td>\n",
              "      <td>2022-05-03 10:29:48</td>\n",
              "      <td>96</td>\n",
              "      <td>False</td>\n",
              "      <td>1</td>\n",
              "      <td>0</td>\n",
              "      <td>b'@profBrivaldoJr @MetodoMoreira @hugomineirim...</td>\n",
              "      <td>Clear</td>\n",
              "      <td>RLP dizem que é uma ferramenta q permite vc c...</td>\n",
              "      <td>RLP say it is a tool that allows you to buy at...</td>\n",
              "      <td>Neutral</td>\n",
              "    </tr>\n",
              "  </tbody>\n",
              "</table>\n",
              "</div>"
            ],
            "text/plain": [
              "       Tweet Id           Tweet Date  Follower Count  Account Verified  \\\n",
              "0  1.521495e+18  2022-05-03 14:21:46               3             False   \n",
              "1  1.521491e+18  2022-05-03 14:05:10             377             False   \n",
              "2  1.521479e+18  2022-05-03 13:17:50             214             False   \n",
              "3  1.521467e+18  2022-05-03 12:29:57             722             False   \n",
              "4  1.521437e+18  2022-05-03 10:29:48              96             False   \n",
              "\n",
              "   Favorite Count  Retweets  \\\n",
              "0               0         0   \n",
              "1               1         0   \n",
              "2               0         0   \n",
              "3               0         0   \n",
              "4               1         0   \n",
              "\n",
              "                                          Tweet Text  Marca  \\\n",
              "0  b'@kimpaim Cancelando minha conta da @clear_co...  Clear   \n",
              "1  b'@marvinoliveiras @EliVieiraJr @Bancointer @c...  Clear   \n",
              "2  b'@EliVieiraJr @Bancointer agradec a Deus q s\\...  Clear   \n",
              "3  b'@PrivacyMistress @Bancointer @clear_corretor...  Clear   \n",
              "4  b'@profBrivaldoJr @MetodoMoreira @hugomineirim...  Clear   \n",
              "\n",
              "                                      Cleaned Tweets  \\\n",
              "0                       Cancelando minha conta da      \n",
              "1   Cara, sai fora essas empresas. São boas nas m...   \n",
              "2   agradec a Deus q são só 3 dias, estou a quase...   \n",
              "3   Next tem  conta pj e conta pf também? A minha...   \n",
              "4   RLP dizem que é uma ferramenta q permite vc c...   \n",
              "\n",
              "                                   Translated Tweets Sentiment  \n",
              "0                          Canceling my account from   Neutral  \n",
              "1  Dude, get out of these companies. They're good...  Positive  \n",
              "2  I thank God that it's only 3 days, I'm almost ...  Negative  \n",
              "3  Next do you have a pj account and a pf account...  Positive  \n",
              "4  RLP say it is a tool that allows you to buy at...   Neutral  "
            ]
          },
          "execution_count": 18,
          "metadata": {},
          "output_type": "execute_result"
        }
      ],
      "source": [
        "df_final_t.head()"
      ]
    },
    {
      "cell_type": "markdown",
      "metadata": {
        "id": "YccgbNcbOiYu"
      },
      "source": [
        "# TextBlob Polaridade dos textos"
      ]
    },
    {
      "cell_type": "code",
      "execution_count": 19,
      "metadata": {
        "id": "mCTCYrYBOtJs"
      },
      "outputs": [],
      "source": [
        "def sentiment_polarity(tweets_text_list):\n",
        "      tweets_sentiments_list = []\n",
        "      for tweet in tweets_text_list:\n",
        "        polarity = tb(tweet).sentiment.polarity\n",
        "        if polarity > 0:\n",
        "          tweets_sentiments_list.append('Positive')\n",
        "        elif polarity < 0:\n",
        "          tweets_sentiments_list.append('Negative')\n",
        "        else:\n",
        "          tweets_sentiments_list.append('Neutral')\n",
        "      \n",
        "      return tweets_sentiments_list"
      ]
    },
    {
      "cell_type": "code",
      "execution_count": 20,
      "metadata": {
        "colab": {
          "base_uri": "https://localhost:8080/",
          "height": 354
        },
        "id": "cs1cVLG6O7QX",
        "outputId": "52cf1072-54e5-4fcc-d93a-26b8d6e1ad4d"
      },
      "outputs": [
        {
          "data": {
            "text/html": [
              "<div>\n",
              "<style scoped>\n",
              "    .dataframe tbody tr th:only-of-type {\n",
              "        vertical-align: middle;\n",
              "    }\n",
              "\n",
              "    .dataframe tbody tr th {\n",
              "        vertical-align: top;\n",
              "    }\n",
              "\n",
              "    .dataframe thead th {\n",
              "        text-align: right;\n",
              "    }\n",
              "</style>\n",
              "<table border=\"1\" class=\"dataframe\">\n",
              "  <thead>\n",
              "    <tr style=\"text-align: right;\">\n",
              "      <th></th>\n",
              "      <th>Tweet Id</th>\n",
              "      <th>Tweet Date</th>\n",
              "      <th>Follower Count</th>\n",
              "      <th>Account Verified</th>\n",
              "      <th>Favorite Count</th>\n",
              "      <th>Retweets</th>\n",
              "      <th>Tweet Text</th>\n",
              "      <th>Marca</th>\n",
              "      <th>Cleaned Tweets</th>\n",
              "      <th>Translated Tweets</th>\n",
              "      <th>Sentiment</th>\n",
              "    </tr>\n",
              "  </thead>\n",
              "  <tbody>\n",
              "    <tr>\n",
              "      <th>0</th>\n",
              "      <td>1.521495e+18</td>\n",
              "      <td>2022-05-03 14:21:46</td>\n",
              "      <td>3</td>\n",
              "      <td>False</td>\n",
              "      <td>0</td>\n",
              "      <td>0</td>\n",
              "      <td>b'@kimpaim Cancelando minha conta da @clear_co...</td>\n",
              "      <td>Clear</td>\n",
              "      <td>Cancelando minha conta da</td>\n",
              "      <td>Canceling my account from</td>\n",
              "      <td>Neutral</td>\n",
              "    </tr>\n",
              "    <tr>\n",
              "      <th>1</th>\n",
              "      <td>1.521491e+18</td>\n",
              "      <td>2022-05-03 14:05:10</td>\n",
              "      <td>377</td>\n",
              "      <td>False</td>\n",
              "      <td>1</td>\n",
              "      <td>0</td>\n",
              "      <td>b'@marvinoliveiras @EliVieiraJr @Bancointer @c...</td>\n",
              "      <td>Clear</td>\n",
              "      <td>Cara, sai fora essas empresas. São boas nas m...</td>\n",
              "      <td>Dude, get out of these companies. They're good...</td>\n",
              "      <td>Positive</td>\n",
              "    </tr>\n",
              "    <tr>\n",
              "      <th>2</th>\n",
              "      <td>1.521479e+18</td>\n",
              "      <td>2022-05-03 13:17:50</td>\n",
              "      <td>214</td>\n",
              "      <td>False</td>\n",
              "      <td>0</td>\n",
              "      <td>0</td>\n",
              "      <td>b'@EliVieiraJr @Bancointer agradec a Deus q s\\...</td>\n",
              "      <td>Clear</td>\n",
              "      <td>agradec a Deus q são só 3 dias, estou a quase...</td>\n",
              "      <td>I thank God that it's only 3 days, I'm almost ...</td>\n",
              "      <td>Negative</td>\n",
              "    </tr>\n",
              "    <tr>\n",
              "      <th>3</th>\n",
              "      <td>1.521467e+18</td>\n",
              "      <td>2022-05-03 12:29:57</td>\n",
              "      <td>722</td>\n",
              "      <td>False</td>\n",
              "      <td>0</td>\n",
              "      <td>0</td>\n",
              "      <td>b'@PrivacyMistress @Bancointer @clear_corretor...</td>\n",
              "      <td>Clear</td>\n",
              "      <td>Next tem  conta pj e conta pf também? A minha...</td>\n",
              "      <td>Next do you have a pj account and a pf account...</td>\n",
              "      <td>Positive</td>\n",
              "    </tr>\n",
              "    <tr>\n",
              "      <th>4</th>\n",
              "      <td>1.521437e+18</td>\n",
              "      <td>2022-05-03 10:29:48</td>\n",
              "      <td>96</td>\n",
              "      <td>False</td>\n",
              "      <td>1</td>\n",
              "      <td>0</td>\n",
              "      <td>b'@profBrivaldoJr @MetodoMoreira @hugomineirim...</td>\n",
              "      <td>Clear</td>\n",
              "      <td>RLP dizem que é uma ferramenta q permite vc c...</td>\n",
              "      <td>RLP say it is a tool that allows you to buy at...</td>\n",
              "      <td>Neutral</td>\n",
              "    </tr>\n",
              "  </tbody>\n",
              "</table>\n",
              "</div>"
            ],
            "text/plain": [
              "       Tweet Id           Tweet Date  Follower Count  Account Verified  \\\n",
              "0  1.521495e+18  2022-05-03 14:21:46               3             False   \n",
              "1  1.521491e+18  2022-05-03 14:05:10             377             False   \n",
              "2  1.521479e+18  2022-05-03 13:17:50             214             False   \n",
              "3  1.521467e+18  2022-05-03 12:29:57             722             False   \n",
              "4  1.521437e+18  2022-05-03 10:29:48              96             False   \n",
              "\n",
              "   Favorite Count  Retweets  \\\n",
              "0               0         0   \n",
              "1               1         0   \n",
              "2               0         0   \n",
              "3               0         0   \n",
              "4               1         0   \n",
              "\n",
              "                                          Tweet Text  Marca  \\\n",
              "0  b'@kimpaim Cancelando minha conta da @clear_co...  Clear   \n",
              "1  b'@marvinoliveiras @EliVieiraJr @Bancointer @c...  Clear   \n",
              "2  b'@EliVieiraJr @Bancointer agradec a Deus q s\\...  Clear   \n",
              "3  b'@PrivacyMistress @Bancointer @clear_corretor...  Clear   \n",
              "4  b'@profBrivaldoJr @MetodoMoreira @hugomineirim...  Clear   \n",
              "\n",
              "                                      Cleaned Tweets  \\\n",
              "0                       Cancelando minha conta da      \n",
              "1   Cara, sai fora essas empresas. São boas nas m...   \n",
              "2   agradec a Deus q são só 3 dias, estou a quase...   \n",
              "3   Next tem  conta pj e conta pf também? A minha...   \n",
              "4   RLP dizem que é uma ferramenta q permite vc c...   \n",
              "\n",
              "                                   Translated Tweets Sentiment  \n",
              "0                          Canceling my account from   Neutral  \n",
              "1  Dude, get out of these companies. They're good...  Positive  \n",
              "2  I thank God that it's only 3 days, I'm almost ...  Negative  \n",
              "3  Next do you have a pj account and a pf account...  Positive  \n",
              "4  RLP say it is a tool that allows you to buy at...   Neutral  "
            ]
          },
          "execution_count": 20,
          "metadata": {},
          "output_type": "execute_result"
        }
      ],
      "source": [
        "df_final_t['Sentiment'] = sentiment_polarity(df_final_t['Translated Tweets'])\n",
        "df_final_t.head()"
      ]
    },
    {
      "cell_type": "code",
      "execution_count": 21,
      "metadata": {
        "id": "t6qnBJOdOgTR"
      },
      "outputs": [],
      "source": [
        "df_final_t.to_csv('../arquivos/analise_final.csv', index=False)  "
      ]
    },
    {
      "cell_type": "markdown",
      "metadata": {
        "id": "3zz-RhxyQZqq"
      },
      "source": [
        "# Análise do dataframe"
      ]
    },
    {
      "cell_type": "code",
      "execution_count": 23,
      "metadata": {
        "colab": {
          "base_uri": "https://localhost:8080/",
          "height": 614
        },
        "id": "V5NHRSQwQcIi",
        "outputId": "722d19f9-3b86-4d1e-cfbc-3157e455872e"
      },
      "outputs": [
        {
          "data": {
            "text/html": [
              "<div>\n",
              "<style scoped>\n",
              "    .dataframe tbody tr th:only-of-type {\n",
              "        vertical-align: middle;\n",
              "    }\n",
              "\n",
              "    .dataframe tbody tr th {\n",
              "        vertical-align: top;\n",
              "    }\n",
              "\n",
              "    .dataframe thead th {\n",
              "        text-align: right;\n",
              "    }\n",
              "</style>\n",
              "<table border=\"1\" class=\"dataframe\">\n",
              "  <thead>\n",
              "    <tr style=\"text-align: right;\">\n",
              "      <th></th>\n",
              "      <th>Marca</th>\n",
              "      <th>Sentiment</th>\n",
              "      <th>qtd_tweets</th>\n",
              "    </tr>\n",
              "  </thead>\n",
              "  <tbody>\n",
              "    <tr>\n",
              "      <th>0</th>\n",
              "      <td>BTG</td>\n",
              "      <td>Negative</td>\n",
              "      <td>83</td>\n",
              "    </tr>\n",
              "    <tr>\n",
              "      <th>1</th>\n",
              "      <td>BTG</td>\n",
              "      <td>Neutral</td>\n",
              "      <td>159</td>\n",
              "    </tr>\n",
              "    <tr>\n",
              "      <th>2</th>\n",
              "      <td>BTG</td>\n",
              "      <td>Positive</td>\n",
              "      <td>97</td>\n",
              "    </tr>\n",
              "    <tr>\n",
              "      <th>3</th>\n",
              "      <td>Clear</td>\n",
              "      <td>Negative</td>\n",
              "      <td>4</td>\n",
              "    </tr>\n",
              "    <tr>\n",
              "      <th>4</th>\n",
              "      <td>Clear</td>\n",
              "      <td>Neutral</td>\n",
              "      <td>8</td>\n",
              "    </tr>\n",
              "    <tr>\n",
              "      <th>5</th>\n",
              "      <td>Clear</td>\n",
              "      <td>Positive</td>\n",
              "      <td>19</td>\n",
              "    </tr>\n",
              "    <tr>\n",
              "      <th>6</th>\n",
              "      <td>Itau</td>\n",
              "      <td>Negative</td>\n",
              "      <td>725</td>\n",
              "    </tr>\n",
              "    <tr>\n",
              "      <th>7</th>\n",
              "      <td>Itau</td>\n",
              "      <td>Neutral</td>\n",
              "      <td>1861</td>\n",
              "    </tr>\n",
              "    <tr>\n",
              "      <th>8</th>\n",
              "      <td>Itau</td>\n",
              "      <td>Positive</td>\n",
              "      <td>1297</td>\n",
              "    </tr>\n",
              "    <tr>\n",
              "      <th>9</th>\n",
              "      <td>Nubank</td>\n",
              "      <td>Negative</td>\n",
              "      <td>4741</td>\n",
              "    </tr>\n",
              "    <tr>\n",
              "      <th>10</th>\n",
              "      <td>Nubank</td>\n",
              "      <td>Neutral</td>\n",
              "      <td>11153</td>\n",
              "    </tr>\n",
              "    <tr>\n",
              "      <th>11</th>\n",
              "      <td>Nubank</td>\n",
              "      <td>Positive</td>\n",
              "      <td>5886</td>\n",
              "    </tr>\n",
              "    <tr>\n",
              "      <th>12</th>\n",
              "      <td>Rico</td>\n",
              "      <td>Negative</td>\n",
              "      <td>22</td>\n",
              "    </tr>\n",
              "    <tr>\n",
              "      <th>13</th>\n",
              "      <td>Rico</td>\n",
              "      <td>Neutral</td>\n",
              "      <td>47</td>\n",
              "    </tr>\n",
              "    <tr>\n",
              "      <th>14</th>\n",
              "      <td>Rico</td>\n",
              "      <td>Positive</td>\n",
              "      <td>28</td>\n",
              "    </tr>\n",
              "    <tr>\n",
              "      <th>15</th>\n",
              "      <td>Xp</td>\n",
              "      <td>Negative</td>\n",
              "      <td>349</td>\n",
              "    </tr>\n",
              "    <tr>\n",
              "      <th>16</th>\n",
              "      <td>Xp</td>\n",
              "      <td>Neutral</td>\n",
              "      <td>2508</td>\n",
              "    </tr>\n",
              "    <tr>\n",
              "      <th>17</th>\n",
              "      <td>Xp</td>\n",
              "      <td>Positive</td>\n",
              "      <td>653</td>\n",
              "    </tr>\n",
              "  </tbody>\n",
              "</table>\n",
              "</div>"
            ],
            "text/plain": [
              "     Marca Sentiment  qtd_tweets\n",
              "0      BTG  Negative          83\n",
              "1      BTG   Neutral         159\n",
              "2      BTG  Positive          97\n",
              "3    Clear  Negative           4\n",
              "4    Clear   Neutral           8\n",
              "5    Clear  Positive          19\n",
              "6     Itau  Negative         725\n",
              "7     Itau   Neutral        1861\n",
              "8     Itau  Positive        1297\n",
              "9   Nubank  Negative        4741\n",
              "10  Nubank   Neutral       11153\n",
              "11  Nubank  Positive        5886\n",
              "12    Rico  Negative          22\n",
              "13    Rico   Neutral          47\n",
              "14    Rico  Positive          28\n",
              "15      Xp  Negative         349\n",
              "16      Xp   Neutral        2508\n",
              "17      Xp  Positive         653"
            ]
          },
          "execution_count": 23,
          "metadata": {},
          "output_type": "execute_result"
        }
      ],
      "source": [
        "df_analise = df_final_t.groupby(['Marca','Sentiment']).agg(qtd_tweets=(\"Tweet Id\",\"count\"))\n",
        "df_analise = df_analise.reset_index()\n",
        "df_analise"
      ]
    },
    {
      "cell_type": "code",
      "execution_count": 24,
      "metadata": {
        "colab": {
          "base_uri": "https://localhost:8080/",
          "height": 237
        },
        "id": "HzFNX0MjYfZD",
        "outputId": "01054c48-faf7-4ca8-c5b8-14eda1cbd019"
      },
      "outputs": [
        {
          "data": {
            "text/html": [
              "<div>\n",
              "<style scoped>\n",
              "    .dataframe tbody tr th:only-of-type {\n",
              "        vertical-align: middle;\n",
              "    }\n",
              "\n",
              "    .dataframe tbody tr th {\n",
              "        vertical-align: top;\n",
              "    }\n",
              "\n",
              "    .dataframe thead th {\n",
              "        text-align: right;\n",
              "    }\n",
              "</style>\n",
              "<table border=\"1\" class=\"dataframe\">\n",
              "  <thead>\n",
              "    <tr style=\"text-align: right;\">\n",
              "      <th></th>\n",
              "      <th>Marca</th>\n",
              "      <th>total_tweets</th>\n",
              "    </tr>\n",
              "  </thead>\n",
              "  <tbody>\n",
              "    <tr>\n",
              "      <th>0</th>\n",
              "      <td>BTG</td>\n",
              "      <td>339</td>\n",
              "    </tr>\n",
              "    <tr>\n",
              "      <th>1</th>\n",
              "      <td>Clear</td>\n",
              "      <td>31</td>\n",
              "    </tr>\n",
              "    <tr>\n",
              "      <th>2</th>\n",
              "      <td>Itau</td>\n",
              "      <td>3883</td>\n",
              "    </tr>\n",
              "    <tr>\n",
              "      <th>3</th>\n",
              "      <td>Nubank</td>\n",
              "      <td>21780</td>\n",
              "    </tr>\n",
              "    <tr>\n",
              "      <th>4</th>\n",
              "      <td>Rico</td>\n",
              "      <td>97</td>\n",
              "    </tr>\n",
              "    <tr>\n",
              "      <th>5</th>\n",
              "      <td>Xp</td>\n",
              "      <td>3510</td>\n",
              "    </tr>\n",
              "  </tbody>\n",
              "</table>\n",
              "</div>"
            ],
            "text/plain": [
              "    Marca  total_tweets\n",
              "0     BTG           339\n",
              "1   Clear            31\n",
              "2    Itau          3883\n",
              "3  Nubank         21780\n",
              "4    Rico            97\n",
              "5      Xp          3510"
            ]
          },
          "execution_count": 24,
          "metadata": {},
          "output_type": "execute_result"
        }
      ],
      "source": [
        "df_total_tweets = df_analise.groupby('Marca').agg(total_tweets=(\"qtd_tweets\",\"sum\"))\n",
        "df_total_tweets = df_total_tweets.reset_index()\n",
        "df_total_tweets"
      ]
    },
    {
      "cell_type": "code",
      "execution_count": 25,
      "metadata": {
        "id": "xVI5L1NRhz6t"
      },
      "outputs": [],
      "source": [
        "df_analise = df_analise.merge(df_total_tweets, on = 'Marca', how = 'left')\n",
        "df_analise['perc_tweets'] = (df_analise['qtd_tweets']/df_analise['total_tweets'])*100"
      ]
    },
    {
      "cell_type": "code",
      "execution_count": 27,
      "metadata": {
        "colab": {
          "base_uri": "https://localhost:8080/",
          "height": 614
        },
        "id": "m2IZGphZkMKH",
        "outputId": "78131496-98b8-4570-9db5-379e5fd6c795"
      },
      "outputs": [
        {
          "data": {
            "text/html": [
              "<div>\n",
              "<style scoped>\n",
              "    .dataframe tbody tr th:only-of-type {\n",
              "        vertical-align: middle;\n",
              "    }\n",
              "\n",
              "    .dataframe tbody tr th {\n",
              "        vertical-align: top;\n",
              "    }\n",
              "\n",
              "    .dataframe thead th {\n",
              "        text-align: right;\n",
              "    }\n",
              "</style>\n",
              "<table border=\"1\" class=\"dataframe\">\n",
              "  <thead>\n",
              "    <tr style=\"text-align: right;\">\n",
              "      <th></th>\n",
              "      <th>Marca</th>\n",
              "      <th>Sentiment</th>\n",
              "      <th>qtd_tweets</th>\n",
              "      <th>total_tweets</th>\n",
              "      <th>perc_tweets</th>\n",
              "    </tr>\n",
              "  </thead>\n",
              "  <tbody>\n",
              "    <tr>\n",
              "      <th>0</th>\n",
              "      <td>BTG</td>\n",
              "      <td>Negative</td>\n",
              "      <td>83</td>\n",
              "      <td>339</td>\n",
              "      <td>24.483776</td>\n",
              "    </tr>\n",
              "    <tr>\n",
              "      <th>1</th>\n",
              "      <td>BTG</td>\n",
              "      <td>Neutral</td>\n",
              "      <td>159</td>\n",
              "      <td>339</td>\n",
              "      <td>46.902655</td>\n",
              "    </tr>\n",
              "    <tr>\n",
              "      <th>2</th>\n",
              "      <td>BTG</td>\n",
              "      <td>Positive</td>\n",
              "      <td>97</td>\n",
              "      <td>339</td>\n",
              "      <td>28.613569</td>\n",
              "    </tr>\n",
              "    <tr>\n",
              "      <th>3</th>\n",
              "      <td>Clear</td>\n",
              "      <td>Negative</td>\n",
              "      <td>4</td>\n",
              "      <td>31</td>\n",
              "      <td>12.903226</td>\n",
              "    </tr>\n",
              "    <tr>\n",
              "      <th>4</th>\n",
              "      <td>Clear</td>\n",
              "      <td>Neutral</td>\n",
              "      <td>8</td>\n",
              "      <td>31</td>\n",
              "      <td>25.806452</td>\n",
              "    </tr>\n",
              "  </tbody>\n",
              "</table>\n",
              "</div>"
            ],
            "text/plain": [
              "   Marca Sentiment  qtd_tweets  total_tweets  perc_tweets\n",
              "0    BTG  Negative          83           339    24.483776\n",
              "1    BTG   Neutral         159           339    46.902655\n",
              "2    BTG  Positive          97           339    28.613569\n",
              "3  Clear  Negative           4            31    12.903226\n",
              "4  Clear   Neutral           8            31    25.806452"
            ]
          },
          "execution_count": 27,
          "metadata": {},
          "output_type": "execute_result"
        }
      ],
      "source": [
        "df_analise.head()"
      ]
    },
    {
      "cell_type": "code",
      "execution_count": 28,
      "metadata": {
        "colab": {
          "base_uri": "https://localhost:8080/",
          "height": 279
        },
        "id": "DWsYsOqESjIn",
        "outputId": "36ecd68b-0039-4c10-cd5c-c534ea4dd5e3"
      },
      "outputs": [
        {
          "data": {
            "image/png": "[encoded data removed]",
            "text/plain": [
              "<Figure size 432x288 with 1 Axes>"
            ]
          },
          "metadata": {
            "needs_background": "light"
          },
          "output_type": "display_data"
        }
      ],
      "source": [
        "grafico1 = sns.barplot(x=\"Marca\", y=\"perc_tweets\", hue=\"Sentiment\", data=df_analise)\n"
      ]
    }
  ],
  "metadata": {
    "accelerator": "GPU",
    "colab": {
      "collapsed_sections": [],
      "machine_shape": "hm",
      "name": "Tratar tweets.ipynb",
      "provenance": []
    },
    "interpreter": {
      "hash": "4d50e13c0f662cdb2e5bde7b7b6e08ccb352f28afc2d06d71e5b4d0fbf63cd69"
    },
    "kernelspec": {
      "display_name": "Python 3.8.8 ('base')",
      "language": "python",
      "name": "python3"
    },
    "language_info": {
      "codemirror_mode": {
        "name": "ipython",
        "version": 3
      },
      "file_extension": ".py",
      "mimetype": "text/x-python",
      "name": "python",
      "nbconvert_exporter": "python",
      "pygments_lexer": "ipython3",
      "version": "3.8.8"
    }
  },
  "nbformat": 4,
  "nbformat_minor": 0
}
